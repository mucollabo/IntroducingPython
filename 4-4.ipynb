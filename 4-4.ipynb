{
 "cells": [
  {
   "cell_type": "code",
   "execution_count": 1,
   "metadata": {
    "collapsed": true
   },
   "outputs": [
    {
     "name": "stdout",
     "output_type": "stream",
     "text": [
      "1\n",
      "2\n",
      "3\n",
      "4\n",
      "5\n"
     ]
    }
   ],
   "source": [
    "count = 1\n",
    "while count <= 5:\n",
    "    print(count)\n",
    "    count += 1"
   ]
  },
  {
   "cell_type": "code",
   "execution_count": 3,
   "outputs": [
    {
     "name": "stdout",
     "output_type": "stream",
     "text": [
      "Charles\n"
     ]
    }
   ],
   "source": [
    "while True:\n",
    "    stuff = input(\"String to capitalize [type a to quit]: \")\n",
    "    if stuff == 'q':\n",
    "        break\n",
    "    print(stuff.capitalize())"
   ],
   "metadata": {
    "collapsed": false,
    "pycharm": {
     "name": "#%%\n"
    }
   }
  },
  {
   "cell_type": "code",
   "execution_count": 4,
   "outputs": [
    {
     "name": "stdout",
     "output_type": "stream",
     "text": [
      "1 squared is 1\n",
      "3 squared is 9\n",
      "5 squared is 25\n",
      "7 squared is 49\n",
      "9 squared is 81\n"
     ]
    }
   ],
   "source": [
    "while True:\n",
    "    value = input(\"Integer, please [q to quit]: \")\n",
    "    if value == 'q':\n",
    "        break\n",
    "    number = int(value)\n",
    "    if number % 2 == 0:\n",
    "        continue\n",
    "    print(number, \"squared is\", number*number)"
   ],
   "metadata": {
    "collapsed": false,
    "pycharm": {
     "name": "#%%\n"
    }
   }
  },
  {
   "cell_type": "code",
   "execution_count": 7,
   "outputs": [
    {
     "name": "stdout",
     "output_type": "stream",
     "text": [
      "1\n",
      "3\n",
      "5\n",
      "No even number found\n"
     ]
    }
   ],
   "source": [
    "numbers = [1, 3, 5]\n",
    "position = 0\n",
    "while position < len(numbers):\n",
    "    number = numbers[position]\n",
    "    print(number)\n",
    "    if number % 2 == 0:\n",
    "        print('Found even number', number)\n",
    "        break\n",
    "    position += 1\n",
    "else:\n",
    "    print('No even number found')"
   ],
   "metadata": {
    "collapsed": false,
    "pycharm": {
     "name": "#%%\n"
    }
   }
  },
  {
   "cell_type": "code",
   "execution_count": null,
   "outputs": [],
   "source": [],
   "metadata": {
    "collapsed": false,
    "pycharm": {
     "name": "#%%\n"
    }
   }
  }
 ],
 "metadata": {
  "kernelspec": {
   "display_name": "Python 3",
   "language": "python",
   "name": "python3"
  },
  "language_info": {
   "codemirror_mode": {
    "name": "ipython",
    "version": 2
   },
   "file_extension": ".py",
   "mimetype": "text/x-python",
   "name": "python",
   "nbconvert_exporter": "python",
   "pygments_lexer": "ipython2",
   "version": "2.7.6"
  }
 },
 "nbformat": 4,
 "nbformat_minor": 0
}