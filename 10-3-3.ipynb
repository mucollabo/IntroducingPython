{
 "cells": [
  {
   "cell_type": "code",
   "execution_count": 1,
   "metadata": {
    "collapsed": true
   },
   "outputs": [
    {
     "name": "stdout",
     "output_type": "stream",
     "text": [
      "I'm main, in process 71295\n",
      "I'm loopy, in process 71302\n",
      "\tNumber 1 of 1000000, Honk!\n",
      "\tNumber 2 of 1000000, Honk!\n",
      "\tNumber 3 of 1000000, Honk!\n",
      "\tNumber 4 of 1000000, Honk!\n",
      "\tNumber 5 of 1000000, Honk!\n"
     ]
    }
   ],
   "source": [
    "import multiprocessing\n",
    "import time\n",
    "import os\n",
    "\n",
    "def whoami(name):\n",
    "    print(\"I'm %s, in process %s\" % (name, os.getpid()))\n",
    "\n",
    "def loopy(name):\n",
    "    whoami(name)\n",
    "    start = 1\n",
    "    stop = 1000000\n",
    "    for num in range(start, stop):\n",
    "        print(\"\\tNumber %s of %s, Honk!\" % (num, stop))\n",
    "        time.sleep(1)\n",
    "\n",
    "if __name__ == \"__main__\":\n",
    "    whoami(\"main\")\n",
    "    p = multiprocessing.Process(target=loopy, args=(\"loopy\",))\n",
    "    p.start()\n",
    "    time.sleep(5)\n",
    "    p.terminate()\n",
    "\n"
   ]
  }
 ],
 "metadata": {
  "kernelspec": {
   "display_name": "Python 3",
   "language": "python",
   "name": "python3"
  },
  "language_info": {
   "codemirror_mode": {
    "name": "ipython",
    "version": 2
   },
   "file_extension": ".py",
   "mimetype": "text/x-python",
   "name": "python",
   "nbconvert_exporter": "python",
   "pygments_lexer": "ipython2",
   "version": "2.7.6"
  }
 },
 "nbformat": 4,
 "nbformat_minor": 0
}