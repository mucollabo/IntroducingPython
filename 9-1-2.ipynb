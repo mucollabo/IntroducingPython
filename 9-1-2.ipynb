{
 "cells": [
  {
   "cell_type": "code",
   "execution_count": 5,
   "metadata": {
    "collapsed": true
   },
   "outputs": [
    {
     "name": "stdout",
     "output_type": "stream",
     "text": [
      "<http.client.HTTPResponse object at 0x7fe24846af90>\n"
     ]
    }
   ],
   "source": [
    "import urllib.request as ur\n",
    "url = 'https://www.mucollabo.com'\n",
    "conn = ur.urlopen(url)\n",
    "print(conn)"
   ]
  },
  {
   "cell_type": "code",
   "execution_count": 6,
   "outputs": [
    {
     "name": "stdout",
     "output_type": "stream",
     "text": [
      "b'<!DOCTYPE html>\\n<html lang=\"ko\">\\n  <head>\\n    <meta charset=\"utf-8\" />\\n    <link rel=\"icon\" href=\"MuCollabo_favicon.ico\" />\\n    <meta name=\"viewport\" content=\"width=device-width, initial-scale=1\" />\\n    <meta name=\"theme-color\" content=\"#000000\" />\\n    <meta\\n      name=\"\\xeb\\xae\\xa4\\xec\\xbd\\x9c\\xeb\\x9d\\xbc\\xeb\\xb3\\xb4\"\\n      content=\"\\xed\\x81\\xb4\\xeb\\x9d\\xbc\\xec\\x9a\\xb0\\xeb\\x93\\x9c \\xec\\x9d\\x8c\\xec\\x95\\x85\\xec\\xa0\\x9c\\xec\\x9e\\x91 \\xed\\x98\\x91\\xec\\x97\\x85 \\xec\\x8a\\xa4\\xed\\x8a\\x9c\\xeb\\x94\\x94\\xec\\x98\\xa4 \\xeb\\xae\\xa4\\xec\\xbd\\x9c\\xeb\\x9d\\xbc\\xeb\\xb3\\xb4\"\\n    />\\n    <link rel=\"apple-touch-icon\" href=\"%PUBLIC_URL%/logo192.png\" />\\n    <link rel=\"manifest\" href=\"%PUBLIC_URL%/manifest.json\" />\\n    <title>MuCollabo</title>\\n    <link rel=\"stylesheet\" href=\"./index.css\">\\n  </head>\\n  <body>\\n    <div>\\n      <img src=\"logo_1_black.png\" width=30% height=30%>\\n    </div>\\n    <div>\\n      <h2>\\xec\\x95\\x88\\xeb\\x85\\x95\\xed\\x95\\x98\\xec\\x84\\xb8\\xec\\x9a\\x94, MuCollabo \\xec\\x9e\\x85\\xeb\\x8b\\x88\\xeb\\x8b\\xa4.</h2>\\n      <p>\\xed\\x98\\x84\\xec\\x9e\\xac \\xeb\\x82\\xb4\\xeb\\xb6\\x80\\xec\\x82\\xac\\xec\\xa0\\x95\\xec\\x9c\\xbc\\xeb\\xa1\\x9c \\xec\\x9d\\xb8\\xed\\x95\\x98\\xec\\x97\\xac \\xec\\x8b\\x9c\\xec\\x8a\\xa4\\xed\\x85\\x9c \\xeb\\xb3\\xb5\\xea\\xb5\\xac\\xec\\xa4\\x91\\xec\\x97\\x90 \\xec\\x9e\\x88\\xec\\x8a\\xb5\\xeb\\x8b\\x88\\xeb\\x8b\\xa4.<br>\\n      </br>\\xec\\x97\\xac\\xeb\\x9f\\xac\\xeb\\xb6\\x84\\xec\\x9d\\x98 \\xea\\xb0\\x9c\\xec\\x9d\\xb8\\xec\\xa0\\x95\\xeb\\xb3\\xb4\\xeb\\x8a\\x94 \\xec\\x95\\x88\\xec\\xa0\\x84\\xed\\x95\\x98\\xea\\xb2\\x8c \\xeb\\xb3\\xb4\\xed\\x98\\xb8\\xeb\\x90\\x98\\xea\\xb3\\xa0 \\xec\\x9e\\x88\\xec\\x8a\\xb5\\xeb\\x8b\\x88\\xeb\\x8b\\xa4.\\n      <br></br>\\xec\\x8b\\xa0\\xec\\x86\\x8d\\xed\\x95\\x98\\xea\\xb2\\x8c \\xeb\\xb3\\xb5\\xea\\xb5\\xac\\xed\\x95\\x98\\xec\\x97\\xac \\xea\\xb3\\xa7 \\xec\\xb0\\xbe\\xec\\x95\\x84 \\xeb\\xb5\\x99\\xea\\xb2\\xa0\\xec\\x8a\\xb5\\xeb\\x8b\\x88\\xeb\\x8b\\xa4.\\n      <br></br>\\xea\\xb8\\xb0\\xed\\x83\\x80 \\xeb\\xac\\xb8\\xec\\x9d\\x98 \\xec\\x82\\xac\\xed\\x95\\xad\\xec\\x9d\\xb4 \\xec\\x9e\\x88\\xeb\\x8a\\x94 \\xea\\xb2\\xbd\\xec\\x9a\\xb0\\n      <br></br>mucollabo@gmail.com \\n      <br></br>\\xec\\x9c\\xbc\\xeb\\xa1\\x9c \\xec\\x97\\xb0\\xeb\\x9d\\xbd\\xec\\xa3\\xbc\\xec\\x8b\\x9c\\xeb\\xa9\\xb4 \\xec\\x8b\\xa0\\xec\\x86\\x8d\\xed\\x95\\x98\\xea\\xb2\\x8c \\xeb\\x8b\\xb5\\xeb\\xb3\\x80 \\xeb\\x93\\x9c\\xeb\\xa6\\xac\\xea\\xb2\\xa0\\xec\\x8a\\xb5\\xeb\\x8b\\x88\\xeb\\x8b\\xa4.\\n      <br></br>\\xea\\xb0\\x90\\xec\\x82\\xac\\xed\\x95\\xa9\\xeb\\x8b\\x88\\xeb\\x8b\\xa4.</p>\\n    </div>\\n  </body>\\n</html>\\n'\n"
     ]
    }
   ],
   "source": [
    "data = conn.read()\n",
    "print(data)"
   ],
   "metadata": {
    "collapsed": false,
    "pycharm": {
     "name": "#%%\n"
    }
   }
  },
  {
   "cell_type": "code",
   "execution_count": 7,
   "outputs": [
    {
     "name": "stdout",
     "output_type": "stream",
     "text": [
      "200\n"
     ]
    }
   ],
   "source": [
    "print(conn.status)"
   ],
   "metadata": {
    "collapsed": false,
    "pycharm": {
     "name": "#%%\n"
    }
   }
  },
  {
   "cell_type": "code",
   "execution_count": 8,
   "outputs": [
    {
     "name": "stdout",
     "output_type": "stream",
     "text": [
      "text/html; charset=utf-8\n"
     ]
    }
   ],
   "source": [
    "print(conn.getheader('Content-Type'))"
   ],
   "metadata": {
    "collapsed": false,
    "pycharm": {
     "name": "#%%\n"
    }
   }
  },
  {
   "cell_type": "code",
   "execution_count": 9,
   "outputs": [
    {
     "name": "stdout",
     "output_type": "stream",
     "text": [
      "Connection close\n",
      "Content-Length 1199\n",
      "Content-Type text/html; charset=utf-8\n",
      "Server GitHub.com\n",
      "Strict-Transport-Security max-age=31556952\n",
      "Last-Modified Wed, 18 Nov 2020 08:24:00 GMT\n",
      "ETag \"5fb4da20-4af\"\n",
      "Access-Control-Allow-Origin *\n",
      "Expires Wed, 18 Nov 2020 14:33:56 GMT\n",
      "Cache-Control max-age=600\n",
      "X-Proxy-Cache MISS\n",
      "X-GitHub-Request-Id EFA2:2FA3:33B922:38551A:5FB52E7B\n",
      "Accept-Ranges bytes\n",
      "Date Wed, 18 Nov 2020 14:23:56 GMT\n",
      "Via 1.1 varnish\n",
      "Age 0\n",
      "X-Served-By cache-itm18839-ITM\n",
      "X-Cache MISS\n",
      "X-Cache-Hits 0\n",
      "X-Timer S1605709436.050006,VS0,VE206\n",
      "Vary Accept-Encoding\n",
      "X-Fastly-Request-ID f98da74c09d48db9e2c43654262a41d60a2d0716\n"
     ]
    }
   ],
   "source": [
    "for key, value in conn.getheaders():\n",
    "    print(key, value)"
   ],
   "metadata": {
    "collapsed": false,
    "pycharm": {
     "name": "#%%\n"
    }
   }
  },
  {
   "cell_type": "code",
   "execution_count": null,
   "outputs": [],
   "source": [],
   "metadata": {
    "collapsed": false,
    "pycharm": {
     "name": "#%%\n"
    }
   }
  }
 ],
 "metadata": {
  "kernelspec": {
   "display_name": "Python 3",
   "language": "python",
   "name": "python3"
  },
  "language_info": {
   "codemirror_mode": {
    "name": "ipython",
    "version": 2
   },
   "file_extension": ".py",
   "mimetype": "text/x-python",
   "name": "python",
   "nbconvert_exporter": "python",
   "pygments_lexer": "ipython2",
   "version": "2.7.6"
  }
 },
 "nbformat": 4,
 "nbformat_minor": 0
}