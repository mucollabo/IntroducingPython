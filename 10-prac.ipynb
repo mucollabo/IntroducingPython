{
 "cells": [
  {
   "cell_type": "markdown",
   "metadata": {
    "collapsed": true,
    "pycharm": {
     "name": "#%% md\n"
    }
   },
   "source": [
    "### 10장 연습문제(시스템)"
   ]
  },
  {
   "cell_type": "code",
   "execution_count": 2,
   "outputs": [],
   "source": [
    "# 10.1\n",
    "from datetime import date\n",
    "now = date.today()\n",
    "now_str = now.isoformat()\n",
    "with open('today.txt', 'wt') as output:\n",
    "    print(now_str, file=output)"
   ],
   "metadata": {
    "collapsed": false,
    "pycharm": {
     "name": "#%%\n"
    }
   }
  },
  {
   "cell_type": "code",
   "execution_count": 4,
   "outputs": [
    {
     "data": {
      "text/plain": "'2020-12-01\\n'"
     },
     "execution_count": 4,
     "metadata": {},
     "output_type": "execute_result"
    }
   ],
   "source": [
    "# 10.2\n",
    "with open('today.txt', 'rt') as input:\n",
    "    today_string = input.read()\n",
    "\n",
    "today_string"
   ],
   "metadata": {
    "collapsed": false,
    "pycharm": {
     "name": "#%%\n"
    }
   }
  },
  {
   "cell_type": "code",
   "execution_count": 6,
   "outputs": [
    {
     "data": {
      "text/plain": "datetime.datetime(2020, 12, 1, 0, 0)"
     },
     "execution_count": 6,
     "metadata": {},
     "output_type": "execute_result"
    }
   ],
   "source": [
    "# 10.3\n",
    "from datetime import datetime\n",
    "fmt = '%Y-%m-%d\\n'\n",
    "datetime.strptime(today_string, fmt)"
   ],
   "metadata": {
    "collapsed": false,
    "pycharm": {
     "name": "#%%\n"
    }
   }
  },
  {
   "cell_type": "code",
   "execution_count": 7,
   "outputs": [
    {
     "data": {
      "text/plain": "['flask2.py',\n '8-1-1.ipynb',\n '10-3-1.ipynb',\n '7-1-3_pattern.ipynb',\n '8-3-2.py',\n 'jeepers.txt',\n '10-2-5.ipynb',\n '5-3-3_weatherman.py',\n '4-5.ipynb',\n '10-1-4.ipynb',\n '8-7-prac.ipynb',\n '9-1-2.ipynb',\n '9-2-1.ipynb',\n '4-10-1.ipynb',\n '10-1-6.ipynb',\n '4-7.ipynb',\n '9-3-5.ipynb',\n 'villains',\n '8-2-2.ipynb',\n '10-3-3.ipynb',\n '8-1-3.ipynb',\n '6-2.ipynb',\n '9-3-1.ipynb',\n '6-6.ipynb',\n 'index.html',\n '8-2-6.ipynb',\n 'home.html',\n '5-7.ipynb',\n '.DS_Store',\n '10-1-11.ipynb',\n '4-13.ipynb',\n '4-3.ipynb',\n '10-2-3.ipynb',\n '10-1-2.ipynb',\n 'relativity',\n 'dump.rdb',\n '10-2-1.ipynb',\n 'yikes.txt',\n '10-prac.ipynb',\n '8-2-4.ipynb',\n '6-4.ipynb',\n '8-1-5.ipynb',\n '5-2.py',\n '4-11.ipynb',\n '3-8.ipynb',\n '10-1-7.ipynb',\n '4-6.ipynb',\n 'flaskP3.py',\n '10-3-2.ipynb',\n '8-2-3.ipynb',\n 'today.txt',\n '8-1-2.ipynb',\n '6-3.ipynb',\n 'bottle3.py',\n '7-1-3.py',\n '8-2-1.ipynb',\n 'zoo.py',\n '5-3-4.py',\n '9-2-2.ipynb',\n '9-1-3.ipynb',\n '10-2-4.ipynb',\n '4-4.ipynb',\n '10-1-5.ipynb',\n 'bottle2.py',\n '7-1-2.py',\n '10-1-1.ipynb',\n 'enterprise.db',\n '9-3-2.ipynb',\n '4-10.ipynb',\n 'links.py',\n '8-2-5.ipynb',\n '6-5.ipynb',\n '8-1-4.ipynb',\n '10-1-10.ipynb',\n '4-12.ipynb',\n '8-1-6.ipynb',\n '6-7.ipynb',\n '8-2-7.ipynb',\n '5-6.ipynb',\n '__pycache__',\n 'flask3a.py',\n 'flaskP2.py',\n '4-2.ipynb',\n 'books1.csv',\n '10-2-2.ipynb',\n '7-3.ipynb',\n '10-1-3.ipynb',\n '9-2-4.ipynb',\n 'ohwell.txt',\n '8-5-2.ipynb',\n '10-4-3.ipynb',\n '7-1-1.py',\n 'README.md',\n '7-2-2.ipynb',\n '6-11.ipynb',\n '8-4-6.ipynb',\n '3-7.ipynb',\n 'bottle_test.py',\n 'definitions.db',\n '8-2-9.ipynb',\n 'flask3b.py',\n '5-5-2.ipynb',\n '6-9.ipynb',\n 'menu.xml',\n 'books.csv',\n '6-14-1.ipynb',\n '3-5.ipynb',\n 'flaskP1.py',\n '6-13.ipynb',\n '8-4-4.ipynb',\n 'mp.py',\n '.gitignore',\n 'introducing-python',\n '10-4-1.ipynb',\n '7-2-4.ipynb',\n '4-8.ipynb',\n 'bfile',\n '10-1-9.ipynb',\n 'flask3c.py',\n '5-5-6.ipynb',\n '6-15.ipynb',\n '5-5-4.ipynb',\n 'templates',\n '3-4.ipynb',\n '6-12.ipynb',\n 'test.txt',\n '.ipynb_checkpoints',\n '8-2-8.ipynb',\n '5-5-3.ipynb',\n '6-8.ipynb',\n '8-5-1.ipynb',\n 'venv',\n '7-2-1.ipynb',\n '7-2-3.ipynb',\n 'poems',\n '10-4-2.ipynb',\n '8-5-3.ipynb',\n '8-4.py',\n '.git',\n 'main.py',\n '5-3-1_weatherman.py',\n '5-1.py',\n '5-5-1.ipynb',\n '6-10.ipynb',\n '3-6.ipynb',\n 'books.db',\n 'flask1.py',\n '5-5-5.ipynb',\n '5-3-2_weatherman.py',\n '8-3-1.py',\n '8-4-3.ipynb',\n 'mcintyre.yaml',\n 'report.py',\n '9-1.ipynb',\n 'zoo.db',\n '7-2-5.ipynb',\n '4-9.ipynb',\n '10-1-8.ipynb',\n '.idea',\n 'boxes']"
     },
     "execution_count": 7,
     "metadata": {},
     "output_type": "execute_result"
    }
   ],
   "source": [
    "# 10.4\n",
    "import os\n",
    "os.listdir('.')"
   ],
   "metadata": {
    "collapsed": false,
    "pycharm": {
     "name": "#%%\n"
    }
   }
  },
  {
   "cell_type": "code",
   "execution_count": 8,
   "outputs": [
    {
     "data": {
      "text/plain": "['.ibm-project',\n 'py100',\n 'bulletinboard',\n 'mucollabo_mobile_test',\n 'Web1_HTML',\n 'python200',\n 'react-app',\n 'yahak_orange',\n 'Oracle-12c',\n 'magenta',\n '.DS_Store',\n 'bookmark',\n 'mucollabo_node',\n 'app',\n 'CppProgramming',\n 'anybodyPython',\n 'pandasForML',\n 'images',\n 'Understanding-K8s',\n 'mucollabo_node_admin',\n 'sinatra_ruby_docker',\n 'nwitter',\n 'fma',\n 'js-s-c',\n 'mucollabo_node_admin_test',\n 'test_mucollabo_MacOS_App',\n 'sjbJAVA',\n 'electron-api-demos',\n 'AlssongJAVA',\n 'ClassCounter',\n 'SQL200',\n 'mucollabo_webVIew_Mobile',\n 'eclipse-workspace',\n 'JavaScript200',\n 'dockertext2',\n 'Response-Web-Server',\n 'mucollabo-sorry',\n 'mucollabo_mobile_react_native',\n 'electron-quick-start',\n 'mlkit',\n 'numpyForDeeplearning',\n 'js-basic-book',\n 'mucollabo_MacOs_App',\n 'movie_app_2020',\n 'tensorflow-wavenet',\n 'mucollabo_node_test.zip',\n 'mucollabo_node_paas',\n 'JAVA200',\n 'DoitJAVAproIntro',\n 'Swift5',\n 'mySQL',\n 'mucollabo_admin',\n 'mucollabo_node_test',\n 'AI_InoSQ_Basic',\n 'GRUV',\n 'Guide-4.0-ROTELLE',\n 'sjbPython',\n 'sjbClang',\n 'mucollabo_images',\n '.ipynb_checkpoints',\n 'C#200',\n 'mucollabo_admin_test',\n 'kubeIntro',\n 'KotlinPractice',\n 'C300_',\n 'Counter',\n 'Cpp200',\n 'FirstApp',\n 'darknet',\n 'Raspi4',\n 'github_hook',\n 'webscrapWpython',\n 'facebook-frontend-server',\n 'kubeIntroEX',\n 'node-web-app',\n 'nsml_client.darwin.amd64.hack',\n 'KAITBM-03',\n 'jupyter',\n 'IntroducingPython',\n 'HandsOnML',\n 'C300',\n 'hello-react',\n 'DevLab',\n '.idea']"
     },
     "execution_count": 8,
     "metadata": {},
     "output_type": "execute_result"
    }
   ],
   "source": [
    "# 10.5\n",
    "os.listdir('..')"
   ],
   "metadata": {
    "collapsed": false,
    "pycharm": {
     "name": "#%%\n"
    }
   }
  },
  {
   "cell_type": "code",
   "execution_count": 10,
   "outputs": [
    {
     "name": "stdout",
     "output_type": "stream",
     "text": [
      "wait 0.0040805374633511304 seconds, time is 2020-12-01 14:56:55.929771\n",
      "wait 0.009567091748956424 seconds, time is 2020-12-01 14:56:55.938968\n",
      "wait 0.4137400073401819 seconds, time is 2020-12-01 14:56:56.346661\n"
     ]
    }
   ],
   "source": [
    "# 10.6\n",
    "import multiprocessing\n",
    "\n",
    "def now(seconds):\n",
    "    from datetime import datetime\n",
    "    from time import sleep\n",
    "    sleep(seconds)\n",
    "    print('wait', seconds, 'seconds, time is', datetime.utcnow())\n",
    "\n",
    "if __name__ == '__main__':\n",
    "    import random\n",
    "    for n in range(3):\n",
    "        seconds = random.random()\n",
    "        proc = multiprocessing.Process(target=now, args=(seconds,))\n",
    "        proc.start()"
   ],
   "metadata": {
    "collapsed": false,
    "pycharm": {
     "name": "#%%\n"
    }
   }
  },
  {
   "cell_type": "code",
   "execution_count": 11,
   "outputs": [
    {
     "data": {
      "text/plain": "datetime.date(1976, 7, 24)"
     },
     "execution_count": 11,
     "metadata": {},
     "output_type": "execute_result"
    }
   ],
   "source": [
    "# 10.7\n",
    "my_day = date(1976, 7, 24)\n",
    "my_day"
   ],
   "metadata": {
    "collapsed": false,
    "pycharm": {
     "name": "#%%\n"
    }
   }
  },
  {
   "cell_type": "code",
   "execution_count": 12,
   "outputs": [
    {
     "data": {
      "text/plain": "5"
     },
     "execution_count": 12,
     "metadata": {},
     "output_type": "execute_result"
    }
   ],
   "source": [
    "# 10.8\n",
    "my_day.weekday()"
   ],
   "metadata": {
    "collapsed": false,
    "pycharm": {
     "name": "#%%\n"
    }
   }
  },
  {
   "cell_type": "code",
   "execution_count": 13,
   "outputs": [
    {
     "data": {
      "text/plain": "6"
     },
     "execution_count": 13,
     "metadata": {},
     "output_type": "execute_result"
    }
   ],
   "source": [
    "my_day.isoweekday()"
   ],
   "metadata": {
    "collapsed": false,
    "pycharm": {
     "name": "#%%\n"
    }
   }
  },
  {
   "cell_type": "code",
   "execution_count": 14,
   "outputs": [
    {
     "data": {
      "text/plain": "datetime.date(2003, 12, 10)"
     },
     "execution_count": 14,
     "metadata": {},
     "output_type": "execute_result"
    }
   ],
   "source": [
    "# 10.9\n",
    "from datetime import timedelta\n",
    "party_day = my_day + timedelta(days=10000)\n",
    "party_day"
   ],
   "metadata": {
    "collapsed": false,
    "pycharm": {
     "name": "#%%\n"
    }
   }
  },
  {
   "cell_type": "code",
   "execution_count": null,
   "outputs": [],
   "source": [],
   "metadata": {
    "collapsed": false,
    "pycharm": {
     "name": "#%%\n"
    }
   }
  }
 ],
 "metadata": {
  "kernelspec": {
   "display_name": "Python 3",
   "language": "python",
   "name": "python3"
  },
  "language_info": {
   "codemirror_mode": {
    "name": "ipython",
    "version": 2
   },
   "file_extension": ".py",
   "mimetype": "text/x-python",
   "name": "python",
   "nbconvert_exporter": "python",
   "pygments_lexer": "ipython2",
   "version": "2.7.6"
  }
 },
 "nbformat": 4,
 "nbformat_minor": 0
}