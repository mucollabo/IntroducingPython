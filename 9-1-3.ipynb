{
 "cells": [
  {
   "cell_type": "code",
   "execution_count": 3,
   "metadata": {
    "collapsed": true
   },
   "outputs": [
    {
     "data": {
      "text/plain": "<Response [200]>"
     },
     "execution_count": 3,
     "metadata": {},
     "output_type": "execute_result"
    }
   ],
   "source": [
    "import requests\n",
    "url = 'https://www.mucollabo.com'\n",
    "resp = requests.get(url)\n",
    "resp"
   ]
  },
  {
   "cell_type": "code",
   "execution_count": 4,
   "outputs": [
    {
     "name": "stdout",
     "output_type": "stream",
     "text": [
      "<!DOCTYPE html>\n",
      "<html lang=\"ko\">\n",
      "  <head>\n",
      "    <meta charset=\"utf-8\" />\n",
      "    <link rel=\"icon\" href=\"MuCollabo_favicon.ico\" />\n",
      "    <meta name=\"viewport\" content=\"width=device-width, initial-scale=1\" />\n",
      "    <meta name=\"theme-color\" content=\"#000000\" />\n",
      "    <meta\n",
      "      name=\"뮤콜라보\"\n",
      "      content=\"클라우드 음악제작 협업 스튜디오 뮤콜라보\"\n",
      "    />\n",
      "    <link rel=\"apple-touch-icon\" href=\"%PUBLIC_URL%/logo192.png\" />\n",
      "    <link rel=\"manifest\" href=\"%PUBLIC_URL%/manifest.json\" />\n",
      "    <title>MuCollabo</title>\n",
      "    <link rel=\"stylesheet\" href=\"./index.css\">\n",
      "  </head>\n",
      "  <body>\n",
      "    <div>\n",
      "      <img src=\"logo_1_black.png\" width=30% height=30%>\n",
      "    </div>\n",
      "    <div>\n",
      "      <h2>안녕하세요, MuCollabo 입니다.</h2>\n",
      "      <p>현재 내부사정으로 인하여 시스템 복구중에 있습니다.<br>\n",
      "      </br>여러분의 개인정보는 안전하게 보호되고 있습니다.\n",
      "      <br></br>신속하게 복구하여 곧 찾아 뵙겠습니다.\n",
      "      <br></br>기타 문의 사항이 있는 경우\n",
      "      <br></br>mucollabo@gmail.com \n",
      "      <br></br>으로 연락주시면 신속하게 답변 드리겠습니다.\n",
      "      <br></br>감사합니다.</p>\n",
      "    </div>\n",
      "  </body>\n",
      "</html>\n",
      "\n"
     ]
    }
   ],
   "source": [
    "print(resp.text)"
   ],
   "metadata": {
    "collapsed": false,
    "pycharm": {
     "name": "#%%\n"
    }
   }
  },
  {
   "cell_type": "code",
   "execution_count": null,
   "outputs": [],
   "source": [],
   "metadata": {
    "collapsed": false,
    "pycharm": {
     "name": "#%%\n"
    }
   }
  }
 ],
 "metadata": {
  "kernelspec": {
   "display_name": "Python 3",
   "language": "python",
   "name": "python3"
  },
  "language_info": {
   "codemirror_mode": {
    "name": "ipython",
    "version": 2
   },
   "file_extension": ".py",
   "mimetype": "text/x-python",
   "name": "python",
   "nbconvert_exporter": "python",
   "pygments_lexer": "ipython2",
   "version": "2.7.6"
  }
 },
 "nbformat": 4,
 "nbformat_minor": 0
}