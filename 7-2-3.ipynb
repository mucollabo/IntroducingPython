{
 "cells": [
  {
   "cell_type": "code",
   "execution_count": 1,
   "metadata": {
    "collapsed": true
   },
   "outputs": [
    {
     "ename": "ModuleNotFoundError",
     "evalue": "No module named 'construct'",
     "output_type": "error",
     "traceback": [
      "\u001B[0;31m---------------------------------------------------------------------------\u001B[0m",
      "\u001B[0;31mModuleNotFoundError\u001B[0m                       Traceback (most recent call last)",
      "\u001B[0;32m<ipython-input-1-9fa01fee286f>\u001B[0m in \u001B[0;36m<module>\u001B[0;34m\u001B[0m\n\u001B[0;32m----> 1\u001B[0;31m \u001B[0;32mfrom\u001B[0m \u001B[0mconstruct\u001B[0m \u001B[0;32mimport\u001B[0m \u001B[0mStruct\u001B[0m\u001B[0;34m,\u001B[0m \u001B[0mMagic\u001B[0m\u001B[0;34m,\u001B[0m \u001B[0mUBInt32\u001B[0m\u001B[0;34m,\u001B[0m \u001B[0mConst\u001B[0m\u001B[0;34m,\u001B[0m \u001B[0mString\u001B[0m\u001B[0;34m\u001B[0m\u001B[0;34m\u001B[0m\u001B[0m\n\u001B[0m\u001B[1;32m      2\u001B[0m \u001B[0;34m\u001B[0m\u001B[0m\n",
      "\u001B[0;31mModuleNotFoundError\u001B[0m: No module named 'construct'"
     ]
    }
   ],
   "source": [
    "from construct import Struct, Magic, UBInt32, Const, String"
   ]
  },
  {
   "cell_type": "code",
   "execution_count": 2,
   "outputs": [
    {
     "ename": "NameError",
     "evalue": "name 'Struct' is not defined",
     "output_type": "error",
     "traceback": [
      "\u001B[0;31m---------------------------------------------------------------------------\u001B[0m",
      "\u001B[0;31mNameError\u001B[0m                                 Traceback (most recent call last)",
      "\u001B[0;32m<ipython-input-2-20331badfb37>\u001B[0m in \u001B[0;36m<module>\u001B[0;34m\u001B[0m\n\u001B[0;32m----> 1\u001B[0;31m fmt = Struct('png',\n\u001B[0m\u001B[1;32m      2\u001B[0m              \u001B[0mMagic\u001B[0m\u001B[0;34m(\u001B[0m\u001B[0;34mb'\\x89PNG\\r\\n\\x1a\\n'\u001B[0m\u001B[0;34m)\u001B[0m\u001B[0;34m,\u001B[0m\u001B[0;34m\u001B[0m\u001B[0;34m\u001B[0m\u001B[0m\n\u001B[1;32m      3\u001B[0m              \u001B[0mUBInt32\u001B[0m\u001B[0;34m(\u001B[0m\u001B[0;34m'length'\u001B[0m\u001B[0;34m)\u001B[0m\u001B[0;34m,\u001B[0m\u001B[0;34m\u001B[0m\u001B[0;34m\u001B[0m\u001B[0m\n\u001B[1;32m      4\u001B[0m              \u001B[0mConst\u001B[0m\u001B[0;34m(\u001B[0m\u001B[0mString\u001B[0m\u001B[0;34m(\u001B[0m\u001B[0;34m'type'\u001B[0m\u001B[0;34m,\u001B[0m \u001B[0;36m4\u001B[0m\u001B[0;34m)\u001B[0m\u001B[0;34m,\u001B[0m \u001B[0;34mb'IHDR'\u001B[0m\u001B[0;34m)\u001B[0m\u001B[0;34m,\u001B[0m\u001B[0;34m\u001B[0m\u001B[0;34m\u001B[0m\u001B[0m\n\u001B[1;32m      5\u001B[0m              \u001B[0mUBInt32\u001B[0m\u001B[0;34m(\u001B[0m\u001B[0;34m'width'\u001B[0m\u001B[0;34m)\u001B[0m\u001B[0;34m,\u001B[0m\u001B[0;34m\u001B[0m\u001B[0;34m\u001B[0m\u001B[0m\n",
      "\u001B[0;31mNameError\u001B[0m: name 'Struct' is not defined"
     ]
    }
   ],
   "source": [
    "fmt = Struct('png',\n",
    "             Magic(b'\\x89PNG\\r\\n\\x1a\\n'),\n",
    "             UBInt32('length'),\n",
    "             Const(String('type', 4), b'IHDR'),\n",
    "             UBInt32('width'),\n",
    "             UBInt32('height')\n",
    "             )"
   ],
   "metadata": {
    "collapsed": false,
    "pycharm": {
     "name": "#%%\n"
    }
   }
  },
  {
   "cell_type": "code",
   "execution_count": null,
   "outputs": [],
   "source": [],
   "metadata": {
    "collapsed": false,
    "pycharm": {
     "name": "#%%\n"
    }
   }
  }
 ],
 "metadata": {
  "kernelspec": {
   "display_name": "Python 3",
   "language": "python",
   "name": "python3"
  },
  "language_info": {
   "codemirror_mode": {
    "name": "ipython",
    "version": 2
   },
   "file_extension": ".py",
   "mimetype": "text/x-python",
   "name": "python",
   "nbconvert_exporter": "python",
   "pygments_lexer": "ipython2",
   "version": "2.7.6"
  }
 },
 "nbformat": 4,
 "nbformat_minor": 0
}